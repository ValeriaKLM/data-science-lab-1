{
  "cells": [
    {
      "cell_type": "markdown",
      "metadata": {
        "id": "vC84e9kzyxPy"
      },
      "source": [
        "<h1>Импорт библиотек"
      ]
    },
    {
      "cell_type": "code",
      "execution_count": 60,
      "metadata": {
        "id": "cgKeNegmQG5S"
      },
      "outputs": [],
      "source": [
        "import numpy as np\n",
        "import matplotlib.pyplot as plt"
      ]
    },
    {
      "cell_type": "markdown",
      "metadata": {
        "id": "qFM9uVU2x4Ls"
      },
      "source": [
        "<h1>Задача 1. Дан набор из $p$ матриц размерностью $(n, n)$ и $p$ векторов размерностью $(n, 1)$, найти сумму произведений матриц на векторы. Написать тесты для кода"
      ]
    },
    {
      "cell_type": "code",
      "execution_count": 61,
      "metadata": {
        "id": "IAbUvEiYyWFF"
      },
      "outputs": [],
      "source": [
        "def sum_prod(X, V):\n",
        "    if len(X) != len(V):\n",
        "        raise ValueError(\"Количество матриц и векторов должно быть одинаковым.\")\n",
        "    \n",
        "    result = 0\n",
        "    for matrix, vector in zip(X, V):\n",
        "        result += np.dot(matrix, vector)\n",
        "    \n",
        "    return result"
      ]
    },
    {
      "cell_type": "code",
      "execution_count": 62,
      "metadata": {},
      "outputs": [
        {
          "name": "stdout",
          "output_type": "stream",
          "text": [
            "Test №1 Successful. \n",
            "Output: \n",
            "[[1]\n",
            " [5]]\n",
            "Test №2 Successful. \n",
            "Output: \n",
            "[[0]\n",
            " [0]]\n",
            "Test №3 Successful. \n",
            "Output: \n",
            "[[140]\n",
            " [220]]\n"
          ]
        }
      ],
      "source": [
        "\n",
        "def run_test(test_number, x, v, expected_result):\n",
        "    func_result = sum_prod(x, v)\n",
        "    assert np.array_equal(func_result, expected_result), (\n",
        "        f\"Test №{test_number} Failed. Your result: \\n{func_result}\"\n",
        "    )\n",
        "    print(f\"Test №{test_number} Successful. \\nOutput: \\n{func_result}\")\n",
        "\n",
        "def test():\n",
        "    test_cases = [\n",
        "        {\n",
        "            \"test_number\": 1,\n",
        "            \"x\": [np.array([[0, 1], [2, 3]])],\n",
        "            \"v\": [np.array([[1], [1]])],\n",
        "            \"expected_result\": np.array([[1], [5]])\n",
        "        },\n",
        "        {\n",
        "            \"test_number\": 2,\n",
        "            \"x\": [np.array([[10, 20], [30, 40]]), np.array([[50, 60], [70, 80]])],\n",
        "            \"v\": [np.array([[0], [0]]), np.array([[0], [0]])],\n",
        "            \"expected_result\": np.array([[0], [0]])\n",
        "        },\n",
        "        {\n",
        "            \"test_number\": 3,\n",
        "            \"x\": [np.array([[10, 20], [30, 40]]), np.array([[50, 60], [70, 80]])],\n",
        "            \"v\": [np.array([[1], [1]]), np.array([[1], [1]])],\n",
        "            \"expected_result\": np.array([[140], [220]])\n",
        "        }\n",
        "    ]\n",
        "\n",
        "    for case in test_cases:\n",
        "        run_test(case[\"test_number\"], case[\"x\"], case[\"v\"], case[\"expected_result\"])\n",
        "\n",
        "test()"
      ]
    },
    {
      "cell_type": "markdown",
      "metadata": {
        "id": "TKwPG4fIy2w4"
      },
      "source": [
        "<h1>Задача 2. Дана матрица M, напишите функцию, которая бинаризует матрицу по некоторому threshold (то есть, все значения большие threshold становятся равными 1, иначе 0). Напишите тесты для кода"
      ]
    },
    {
      "cell_type": "code",
      "execution_count": 63,
      "metadata": {
        "id": "KQDNMgsjRNH7"
      },
      "outputs": [],
      "source": [
        "def binarize(M : np.array, threshold=0.5):\n",
        "    return np.where(M >= threshold, 1, 0)"
      ]
    },
    {
      "cell_type": "code",
      "execution_count": 64,
      "metadata": {},
      "outputs": [
        {
          "name": "stdout",
          "output_type": "stream",
          "text": [
            "Test №1 Successful\n",
            "Test №2 Successful\n",
            "Test №3 Successful\n",
            "Test №4 Successful\n",
            "Test №5 Successful\n",
            "Test №6 Successful\n",
            "Test №7 Successful\n",
            "Test №8 Successful\n",
            "Test №9 Successful\n"
          ]
        }
      ],
      "source": [
        "def test_binarize():\n",
        "    M1 = np.array([[0.5, 1.5], [2.5, 0.1]])\n",
        "    threshold1 = 1.0\n",
        "    expected_result1 = np.array([[0, 1], [1, 0]])\n",
        "    assert np.array_equal(binarize(M1, threshold1), expected_result1), (\n",
        "        f\"Test №1 Failed. Your result: \\n{binarize(M1, threshold1)}\"\n",
        "    )\n",
        "    print(\"Test №1 Successful\")\n",
        "\n",
        "    M2 = np.array([[-1.0, 0.0], [0.5, 1.0]])\n",
        "    threshold2 = 0.0\n",
        "    expected_result2 = np.array([[0, 1], [1, 1]])\n",
        "    assert np.array_equal(binarize(M2, threshold2), expected_result2), (\n",
        "        f\"Test №2 Failed. Your result: \\n{binarize(M2, threshold2)}\"\n",
        "    )\n",
        "    print(\"Test №2 Successful\")\n",
        "\n",
        "    M3 = np.array([[0.5, 0.5], [0.5, 0.5]])\n",
        "    threshold3 = 0.5\n",
        "    expected_result3 = np.array([[1, 1], [1, 1]])\n",
        "    assert np.array_equal(binarize(M3, threshold3), expected_result3), (\n",
        "        f\"Test №3 Failed. Your result: \\n{binarize(M3, threshold3)}\"\n",
        "    )\n",
        "    print(\"Test №3 Successful\")\n",
        "\n",
        "    M4 = np.array([[10, 20], [30, 40]])\n",
        "    threshold4 = 15\n",
        "    expected_result4 = np.array([[0, 1], [1, 1]])\n",
        "    assert np.array_equal(binarize(M4, threshold4), expected_result4), (\n",
        "        f\"Test №4 Failed. Your result: \\n{binarize(M4, threshold4)}\"\n",
        "    )\n",
        "    print(\"Test №4 Successful\")\n",
        "\n",
        "    M5 = np.array([[0, 0], [0, 0]])\n",
        "    threshold5 = 0\n",
        "    expected_result5 = np.array([[1, 1], [1, 1]])\n",
        "    assert np.array_equal(binarize(M5, threshold5), expected_result5), (\n",
        "        f\"Test №5 Failed. Your result: \\n{binarize(M5, threshold5)}\"\n",
        "    )\n",
        "    print(\"Test №5 Successful\")\n",
        "\n",
        "    M6 = np.array([[1, 2], [3, 4]])\n",
        "    threshold6 = 5\n",
        "    expected_result6 = np.array([[0, 0], [0, 0]])\n",
        "    assert np.array_equal(binarize(M6, threshold6), expected_result6), (\n",
        "        f\"Test №6 Failed. Your result: \\n{binarize(M6, threshold6)}\"\n",
        "    )\n",
        "    print(\"Test №6 Successful\")\n",
        "\n",
        "    M7 = np.array([[0.3, 0.7], [0.5, 0.2]])\n",
        "    expected_result7 = np.array([[0, 1], [1, 0]])\n",
        "    assert np.array_equal(binarize(M7), expected_result7), (\n",
        "        f\"Test №7 Failed. Your result: \\n{binarize(M7)}\"\n",
        "    )\n",
        "    print(\"Test №7 Successful\")\n",
        "\n",
        "    M8 = np.array([[0.5, 1.0], [1.5, 0.0]])\n",
        "    threshold8 = 1.0\n",
        "    expected_result8 = np.array([[0, 1], [1, 0]])\n",
        "    assert np.array_equal(binarize(M8, threshold8), expected_result8), (\n",
        "        f\"Test №8 Failed. Your result: \\n{binarize(M8, threshold8)}\"\n",
        "    )\n",
        "    print(\"Test №8 Successful\")\n",
        "\n",
        "    M9 = np.array([[0.5, 1.0], [1.5, 0.0]])\n",
        "    threshold9 = 0.7\n",
        "    expected_result9 = np.array([[0, 1], [1, 0]])\n",
        "    assert np.array_equal(binarize(M9, threshold9), expected_result9), (\n",
        "        f\"Test №9 Failed. Your result: \\n{binarize(M9, threshold9)}\"\n",
        "    )\n",
        "    print(\"Test №9 Successful\")\n",
        "\n",
        "test_binarize()"
      ]
    },
    {
      "cell_type": "markdown",
      "metadata": {
        "id": "IY5L-h-7zWhN"
      },
      "source": [
        "<h1>Задача 3. Напишите функцию, которая возвращает уникальные элементы из каждой строки матрицы. Напишите такую же функцию, но для столбцов. Напишите тесты для кода"
      ]
    },
    {
      "cell_type": "code",
      "execution_count": 65,
      "metadata": {
        "id": "-8dEZhR0SBC-"
      },
      "outputs": [],
      "source": [
        "def unique_rows(mat):\n",
        "    return [np.unique(row) for row in mat]\n",
        "\n",
        "def unique_columns(mat):\n",
        "    return [np.unique(col) for col in mat.T]"
      ]
    },
    {
      "cell_type": "code",
      "execution_count": 66,
      "metadata": {},
      "outputs": [
        {
          "name": "stdout",
          "output_type": "stream",
          "text": [
            "Test №1 Successful\n",
            "Test №2 Successful\n",
            "Test №3 Successful\n",
            "Test №1 Successful\n",
            "Test №2 Successful\n",
            "Test №3 Successful\n"
          ]
        }
      ],
      "source": [
        "def test_unique_rows():\n",
        "    mat1 = np.array([[1, 2, 2, 3], [4, 4, 5, 6], [7, 8, 8, 9]])\n",
        "    expected_result1 = [np.array([1, 2, 3]), np.array([4, 5, 6]), np.array([7, 8, 9])]\n",
        "    assert all(np.array_equal(a, b) for a, b in zip(unique_rows(mat1), expected_result1)), (\n",
        "        f\"Test №1 Failed. Your result: \\n{unique_rows(mat1)}\"\n",
        "    )\n",
        "    print(\"Test №1 Successful\")\n",
        "\n",
        "    mat2 = np.array([[1, 1, 1], [2, 2, 2], [3, 3, 3]])\n",
        "    expected_result2 = [np.array([1]), np.array([2]), np.array([3])]\n",
        "    assert all(np.array_equal(a, b) for a, b in zip(unique_rows(mat2), expected_result2)), (\n",
        "        f\"Test №2 Failed. Your result: \\n{unique_rows(mat2)}\"\n",
        "    )\n",
        "    print(\"Test №2 Successful\")\n",
        "\n",
        "    mat3 = np.array([[1, 3, 2], [4, 6, 5], [7, 9, 8]])\n",
        "    expected_result3 = [np.array([1, 2, 3]), np.array([4, 5, 6]), np.array([7, 8, 9])]\n",
        "    assert all(np.array_equal(a, b) for a, b in zip(unique_rows(mat3), expected_result3)), (\n",
        "        f\"Test №3 Failed. Your result: \\n{unique_rows(mat3)}\"\n",
        "    )\n",
        "    print(\"Test №3 Successful\")\n",
        "\n",
        "def test_unique_columns():\n",
        "    mat1 = np.array([[1, 2, 3], [4, 2, 6], [7, 8, 3]])\n",
        "    expected_result1 = [np.array([1, 4, 7]), np.array([2, 8]), np.array([3, 6])]\n",
        "    assert all(np.array_equal(a, b) for a, b in zip(unique_columns(mat1), expected_result1)), (\n",
        "        f\"Test №1 Failed. Your result: \\n{unique_columns(mat1)}\"\n",
        "    )\n",
        "    print(\"Test №1 Successful\")\n",
        "\n",
        "    mat2 = np.array([[1, 1, 1], [1, 1, 1], [1, 1, 1]])\n",
        "    expected_result2 = [np.array([1]), np.array([1]), np.array([1])]\n",
        "    assert all(np.array_equal(a, b) for a, b in zip(unique_columns(mat2), expected_result2)), (\n",
        "        f\"Test №2 Failed. Your result: \\n{unique_columns(mat2)}\"\n",
        "    )\n",
        "    print(\"Test №2 Successful\")\n",
        "\n",
        "    mat3 = np.array([[1, 3, 2], [4, 6, 5], [7, 9, 8]])\n",
        "    expected_result3 = [np.array([1, 4, 7]), np.array([3, 6, 9]), np.array([2, 5, 8])]\n",
        "    assert all(np.array_equal(a, b) for a, b in zip(unique_columns(mat3), expected_result3)), (\n",
        "        f\"Test №3 Failed. Your result: \\n{unique_columns(mat3)}\"\n",
        "    )\n",
        "    print(\"Test №3 Successful\")\n",
        "\n",
        "test_unique_rows()\n",
        "test_unique_columns()"
      ]
    },
    {
      "cell_type": "markdown",
      "metadata": {
        "id": "roYAlo4Jz-lH"
      },
      "source": [
        "<h1>Задача 4. Напишите функцию, которая заполняет матрицу с размерами $(m, n)$ случайными числами, распределенными по нормальному закону. Затем считает мат. ожидание и дисперсию для каждого из столбцов и строк, а также строит для каждой строки и столбца гистограмму значений (использовать функцию hist из модуля matplotlib.plot)"
      ]
    },
    {
      "cell_type": "code",
      "execution_count": 67,
      "metadata": {
        "id": "nZK_71hMSQzv"
      },
      "outputs": [
        {
          "name": "stdout",
          "output_type": "stream",
          "text": [
            "Матрица:\n",
            "[[-1.38757894 -0.11622709 -0.65533204  0.06390331]\n",
            " [ 1.03755302  1.0400806  -0.90537841  0.83813648]\n",
            " [ 0.83400595  0.24947786  0.88984448  0.24365235]\n",
            " [-0.8590318  -0.56539507 -0.02114194 -0.16821036]\n",
            " [-0.07684845  0.43424282 -0.31220352 -2.04229838]]\n",
            "\n",
            "Математическое ожидание столбцов: [-0.09038004  0.20843583 -0.20084229 -0.21296332]\n",
            "Дисперсия столбцов: [0.88009121 0.28970531 0.38744465 0.94768668]\n",
            "\n",
            "Математическое ожидание строк: [-0.52380869  0.50259792  0.55424516 -0.40344479 -0.49927688]\n",
            "Дисперсия строк: [0.3187314  0.66751202 0.095061   0.10881953 0.86645415]\n"
          ]
        },
        {
          "data": {
            "image/png": "[encoded data removed]",
            "text/plain": [
              "<Figure size 1200x600 with 4 Axes>"
            ]
          },
          "metadata": {},
          "output_type": "display_data"
        },
        {
          "data": {
            "image/png": "[encoded data removed]",
            "text/plain": [
              "<Figure size 1200x600 with 5 Axes>"
            ]
          },
          "metadata": {},
          "output_type": "display_data"
        }
      ],
      "source": [
        "def generate_and_analyze_matrix(m, n, mean=0, std=1):\n",
        "    matrix = np.random.normal(mean, std, (m, n))\n",
        "    \n",
        "    column_means = np.mean(matrix, axis=0)\n",
        "    column_vars = np.var(matrix, axis=0)\n",
        "    \n",
        "    row_means = np.mean(matrix, axis=1)\n",
        "    row_vars = np.var(matrix, axis=1)\n",
        "    \n",
        "    print(\"Матрица:\")\n",
        "    print(matrix)\n",
        "    print(\"\\nМатематическое ожидание столбцов:\", column_means)\n",
        "    print(\"Дисперсия столбцов:\", column_vars)\n",
        "    print(\"\\nМатематическое ожидание строк:\", row_means)\n",
        "    print(\"Дисперсия строк:\", row_vars)\n",
        "    \n",
        "    plt.figure(figsize=(12, 6))\n",
        "    for i in range(n):\n",
        "        plt.subplot(1, n, i + 1)\n",
        "        plt.hist(matrix[:, i], bins=20, alpha=0.7, label=f'Столбец {i+1}')\n",
        "        plt.title(f'{i+1}')\n",
        "        plt.xlabel('Значения')\n",
        "        plt.ylabel('Частота')\n",
        "        plt.legend()\n",
        "    plt.tight_layout()\n",
        "    plt.suptitle('Гистограммы столбцов')\n",
        "    plt.show()\n",
        "    \n",
        "    plt.figure(figsize=(12, 6))\n",
        "    for i in range(m):\n",
        "        plt.subplot(1, m, i + 1)\n",
        "        plt.hist(matrix[i, :], bins=20, alpha=0.7, label=f'Строка {i+1}')\n",
        "        plt.title(f'{i+1}')\n",
        "        plt.xlabel('Значения')\n",
        "        plt.ylabel('Частота')\n",
        "        plt.legend()\n",
        "    plt.tight_layout()\n",
        "    plt.suptitle('Гистограммы строк')\n",
        "    plt.show()\n",
        "\n",
        "generate_and_analyze_matrix(5, 4)"
      ]
    },
    {
      "cell_type": "markdown",
      "metadata": {
        "id": "BDyATNdM0dJ2"
      },
      "source": [
        "<h1>Задача 5. Напишите функцию, которая заполняет матрицу $(m, n)$ в шахматном порядке заданными числами $a$ и $b$. Напишите тесты для кода"
      ]
    },
    {
      "cell_type": "code",
      "execution_count": 68,
      "metadata": {
        "id": "RWNJYWQGecS6"
      },
      "outputs": [],
      "source": [
        "def chess(m, n, a, b):\n",
        "    matrix = np.zeros((m, n), dtype=int)\n",
        "    for i in range(m):\n",
        "        for j in range(n):\n",
        "            if (i + j) % 2 == 0:\n",
        "                matrix[i, j] = a\n",
        "            else:\n",
        "                matrix[i, j] = b\n",
        "    return matrix"
      ]
    },
    {
      "cell_type": "code",
      "execution_count": 69,
      "metadata": {},
      "outputs": [
        {
          "name": "stdout",
          "output_type": "stream",
          "text": [
            "Test №1 Successful\n",
            "Test №2 Successful\n",
            "Test №3 Successful\n",
            "Test №4 Successful\n",
            "Test №5 Successful\n",
            "Test №6 Successful\n",
            "Test №7 Successful\n",
            "Test №8 Successful\n"
          ]
        }
      ],
      "source": [
        "def test_chess():\n",
        "    m1, n1, a1, b1 = 2, 2, 1, 0\n",
        "    expected_result1 = np.array([[1, 0], [0, 1]])\n",
        "    assert np.array_equal(chess(m1, n1, a1, b1), expected_result1), (\n",
        "        f\"Test №1 Failed. Your result: \\n{chess(m1, n1, a1, b1)}\"\n",
        "    )\n",
        "    print(\"Test №1 Successful\")\n",
        "\n",
        "    m2, n2, a2, b2 = 3, 3, 1, 0\n",
        "    expected_result2 = np.array([[1, 0, 1], [0, 1, 0], [1, 0, 1]])\n",
        "    assert np.array_equal(chess(m2, n2, a2, b2), expected_result2), (\n",
        "        f\"Test №2 Failed. Your result: \\n{chess(m2, n2, a2, b2)}\"\n",
        "    )\n",
        "    print(\"Test №2 Successful\")\n",
        "\n",
        "    m3, n3, a3, b3 = 4, 4, 1, 0\n",
        "    expected_result3 = np.array([[1, 0, 1, 0], [0, 1, 0, 1], [1, 0, 1, 0], [0, 1, 0, 1]])\n",
        "    assert np.array_equal(chess(m3, n3, a3, b3), expected_result3), (\n",
        "        f\"Test №3 Failed. Your result: \\n{chess(m3, n3, a3, b3)}\"\n",
        "    )\n",
        "    print(\"Test №3 Successful\")\n",
        "\n",
        "    m4, n4, a4, b4 = 3, 4, 1, 0\n",
        "    expected_result4 = np.array([[1, 0, 1, 0], [0, 1, 0, 1], [1, 0, 1, 0]])\n",
        "    assert np.array_equal(chess(m4, n4, a4, b4), expected_result4), (\n",
        "        f\"Test №4 Failed. Your result: \\n{chess(m4, n4, a4, b4)}\"\n",
        "    )\n",
        "    print(\"Test №4 Successful\")\n",
        "\n",
        "    m5, n5, a5, b5 = 4, 3, 1, 0\n",
        "    expected_result5 = np.array([[1, 0, 1], [0, 1, 0], [1, 0, 1], [0, 1, 0]])\n",
        "    assert np.array_equal(chess(m5, n5, a5, b5), expected_result5), (\n",
        "        f\"Test №5 Failed. Your result: \\n{chess(m5, n5, a5, b5)}\"\n",
        "    )\n",
        "    print(\"Test №5 Successful\")\n",
        "\n",
        "    m6, n6, a6, b6 = 1, 1, 1, 0\n",
        "    expected_result6 = np.array([[1]])\n",
        "    assert np.array_equal(chess(m6, n6, a6, b6), expected_result6), (\n",
        "        f\"Test №6 Failed. Your result: \\n{chess(m6, n6, a6, b6)}\"\n",
        "    )\n",
        "    print(\"Test №6 Successful\")\n",
        "\n",
        "    m7, n7, a7, b7 = 5, 5, 2, 3\n",
        "    expected_result7 = np.array([[2, 3, 2, 3, 2], [3, 2, 3, 2, 3], [2, 3, 2, 3, 2], [3, 2, 3, 2, 3], [2, 3, 2, 3, 2]])\n",
        "    assert np.array_equal(chess(m7, n7, a7, b7), expected_result7), (\n",
        "        f\"Test №7 Failed. Your result: \\n{chess(m7, n7, a7, b7)}\"\n",
        "    )\n",
        "    print(\"Test №7 Successful\")\n",
        "\n",
        "    m8, n8, a8, b8 = 2, 5, 5, 6\n",
        "    expected_result8 = np.array([[5, 6, 5, 6, 5], [6, 5, 6, 5, 6]])\n",
        "    assert np.array_equal(chess(m8, n8, a8, b8), expected_result8), (\n",
        "        f\"Test №8 Failed. Your result: \\n{chess(m8, n8, a8, b8)}\"\n",
        "    )\n",
        "    print(\"Test №8 Successful\")\n",
        "\n",
        "test_chess()"
      ]
    },
    {
      "cell_type": "markdown",
      "metadata": {
        "id": "-ymXLtTN0vB6"
      },
      "source": [
        "<h1>Задача 6. Напишите функцию, которая отрисовывает прямоугольник с заданными размерами (a, b) на изображении размера (m, n), цвет фона задайте в схеме RGB, как и цвет прямоугольника. Цвета также должны быть параметрами функции. Напишите аналогичную функцию но для овала с полуосями a и b. Напишите тесты для кода.\n",
        "Примечание: уравнение эллипса (границы овала) можно записать как:\n",
        "<h1>$\\frac{(x-x_0)^2}{a^2}+\\frac{(y-y_0)^2}{b^2}=1$"
      ]
    },
    {
      "cell_type": "code",
      "execution_count": 74,
      "metadata": {
        "id": "sNfl1t_kfOF4"
      },
      "outputs": [],
      "source": [
        "def draw_rectangle(width, height, img_height, img_width, rect_color, bg_color):\n",
        "    image = np.full((img_height, img_width, 3), bg_color, dtype=float)\n",
        "    \n",
        "    x_start = (img_width - width) // 2\n",
        "    y_start = (img_height - height) // 2\n",
        "    x_end = x_start + width\n",
        "    y_end = y_start + height\n",
        "    \n",
        "    image[y_start:y_end, x_start:x_end] = rect_color\n",
        "    \n",
        "    plt.xticks([x_start, x_end])\n",
        "    plt.yticks([y_start, y_end])\n",
        "    plt.imshow(image)\n",
        "    plt.axis('on')\n",
        "    plt.show()\n",
        "\n",
        "def draw_ellipse(a, b, img_height, img_width, ellipse_color, bg_color):\n",
        "    image = np.full((img_height, img_width, 3), bg_color, dtype=float)\n",
        "    \n",
        "    y, x = np.ogrid[:img_height, :img_width]\n",
        "    \n",
        "    ellipse_mask = (((x - img_width // 2) / a)**2 + ((y - img_height // 2) / b)**2) <= 1\n",
        "    \n",
        "    image[ellipse_mask] = ellipse_color\n",
        "    \n",
        "    plt.imshow(image)\n",
        "    plt.axis('on')\n",
        "    plt.show()"
      ]
    },
    {
      "cell_type": "code",
      "execution_count": 75,
      "metadata": {},
      "outputs": [
        {
          "data": {
            "image/png": "[encoded data removed]",
            "text/plain": [
              "<Figure size 640x480 with 1 Axes>"
            ]
          },
          "metadata": {},
          "output_type": "display_data"
        },
        {
          "data": {
            "image/png": "[encoded data removed]",
            "text/plain": [
              "<Figure size 640x480 with 1 Axes>"
            ]
          },
          "metadata": {},
          "output_type": "display_data"
        }
      ],
      "source": [
        "draw_rectangle(200, 100, 200, 350, (1, 0, 0), (1, 1, 1))\n",
        "draw_ellipse(200, 100, 400, 600, (1, 0, 0), (1, 1, 1))"
      ]
    },
    {
      "cell_type": "markdown",
      "metadata": {
        "id": "S82c38oz244H"
      },
      "source": [
        "<h1>Задача 7. Дан некий временной ряд. Для данного ряда нужно найти его: математическое ожидание, дисперсию, СКО, найти все локальные максимумы и минимумы (локальный максимум - это точка, которая больше своих соседних точек, а локальный минимум - это точка, которая меньше своих соседей), а также вычислить для данного ряда другой ряд, получаемый методом скользящего среднего с размером окна $p$.\n",
        "<h1>Примечание: метод скользящего среднего подразумевает нахождение среднего из подмножетсва ряда размером $p$"
      ]
    },
    {
      "cell_type": "code",
      "execution_count": 76,
      "metadata": {
        "id": "Zb9mIVge5MMt"
      },
      "outputs": [
        {
          "ename": "ValueError",
          "evalue": "The truth value of an array with more than one element is ambiguous. Use a.any() or a.all()",
          "output_type": "error",
          "traceback": [
            "\u001b[1;31m---------------------------------------------------------------------------\u001b[0m",
            "\u001b[1;31mValueError\u001b[0m                                Traceback (most recent call last)",
            "Cell \u001b[1;32mIn[76], line 61\u001b[0m\n\u001b[0;32m     58\u001b[0m     \u001b[38;5;28;01massert\u001b[39;00m func_result \u001b[38;5;241m==\u001b[39m true_result, \u001b[38;5;124mf\u001b[39m\u001b[38;5;124m\"\u001b[39m\u001b[38;5;124mTest №2 Failed, Your result: \u001b[39m\u001b[38;5;130;01m\\n\u001b[39;00m\u001b[38;5;124m \u001b[39m\u001b[38;5;132;01m{\u001b[39;00m\u001b[38;5;28mstr\u001b[39m(func_result)\u001b[38;5;132;01m}\u001b[39;00m\u001b[38;5;124m\"\u001b[39m\n\u001b[0;32m     59\u001b[0m     \u001b[38;5;28mprint\u001b[39m(\u001b[38;5;124m\"\u001b[39m\u001b[38;5;124mTest №2 Successful\u001b[39m\u001b[38;5;124m\"\u001b[39m)\n\u001b[1;32m---> 61\u001b[0m \u001b[43mtest\u001b[49m\u001b[43m(\u001b[49m\u001b[43m)\u001b[49m\n",
            "Cell \u001b[1;32mIn[76], line 46\u001b[0m, in \u001b[0;36mtest\u001b[1;34m()\u001b[0m\n\u001b[0;32m     37\u001b[0m func_result \u001b[38;5;241m=\u001b[39m calculate_statistics([\u001b[38;5;241m1\u001b[39m, \u001b[38;5;241m3\u001b[39m, \u001b[38;5;241m8\u001b[39m, \u001b[38;5;241m1\u001b[39m, \u001b[38;5;241m2\u001b[39m])\n\u001b[0;32m     38\u001b[0m true_result \u001b[38;5;241m=\u001b[39m {\n\u001b[0;32m     39\u001b[0m     \u001b[38;5;124m'\u001b[39m\u001b[38;5;124mmean\u001b[39m\u001b[38;5;124m'\u001b[39m: \u001b[38;5;241m3.0\u001b[39m,\n\u001b[0;32m     40\u001b[0m     \u001b[38;5;124m'\u001b[39m\u001b[38;5;124mvariance\u001b[39m\u001b[38;5;124m'\u001b[39m: \u001b[38;5;241m6.8\u001b[39m,\n\u001b[1;32m   (...)\u001b[0m\n\u001b[0;32m     44\u001b[0m     \u001b[38;5;124m'\u001b[39m\u001b[38;5;124mmoving_avg_series\u001b[39m\u001b[38;5;124m'\u001b[39m: np\u001b[38;5;241m.\u001b[39marray([\u001b[38;5;241m4.0\u001b[39m, \u001b[38;5;241m3.6667\u001b[39m, \u001b[38;5;241m3.6667\u001b[39m])\n\u001b[0;32m     45\u001b[0m }\n\u001b[1;32m---> 46\u001b[0m \u001b[38;5;28;01massert\u001b[39;00m \u001b[43mfunc_result\u001b[49m\u001b[43m \u001b[49m\u001b[38;5;241;43m==\u001b[39;49m\u001b[43m \u001b[49m\u001b[43mtrue_result\u001b[49m, \u001b[38;5;124mf\u001b[39m\u001b[38;5;124m\"\u001b[39m\u001b[38;5;124mTest №1 Failed, Your result: \u001b[39m\u001b[38;5;130;01m\\n\u001b[39;00m\u001b[38;5;124m \u001b[39m\u001b[38;5;132;01m{\u001b[39;00m\u001b[38;5;28mstr\u001b[39m(func_result)\u001b[38;5;132;01m}\u001b[39;00m\u001b[38;5;124m\"\u001b[39m\n\u001b[0;32m     47\u001b[0m \u001b[38;5;28mprint\u001b[39m(\u001b[38;5;124m\"\u001b[39m\u001b[38;5;124mTest №1 Successful\u001b[39m\u001b[38;5;124m\"\u001b[39m)\n\u001b[0;32m     49\u001b[0m func_result \u001b[38;5;241m=\u001b[39m calculate_statistics([\u001b[38;5;241m1\u001b[39m, \u001b[38;5;241m3\u001b[39m, \u001b[38;5;241m2\u001b[39m])\n",
            "\u001b[1;31mValueError\u001b[0m: The truth value of an array with more than one element is ambiguous. Use a.any() or a.all()"
          ]
        }
      ],
      "source": [
        "def calculate_statistics(data):\n",
        "    # Вычисление среднего значения, дисперсии и стандартного отклонения\n",
        "    mean_value = np.mean(data)\n",
        "    variance_value = np.var(data)\n",
        "    std_deviation = np.std(data)\n",
        "    \n",
        "    # Округление результатов до трех знаков после запятой\n",
        "    mean_value = round(mean_value, 3)\n",
        "    variance_value = round(variance_value, 3)\n",
        "    std_deviation = round(std_deviation, 3)\n",
        "    \n",
        "    # Поиск локальных максимумов и минимумов\n",
        "    local_maxima = []\n",
        "    local_minima = []\n",
        "    for index in range(1, len(data) - 1):\n",
        "        if data[index] > data[index - 1] and data[index] > data[index + 1]:\n",
        "            local_maxima.append(data[index])\n",
        "        elif data[index] < data[index - 1] and data[index] < data[index + 1]:\n",
        "            local_minima.append(data[index])\n",
        "    \n",
        "    return mean_value, variance_value, std_deviation, local_maxima, local_minima\n",
        "\n",
        "def run_tests():\n",
        "    # Тест 1\n",
        "    result = calculate_statistics([1, 3, 8, 1, 2])\n",
        "    expected = (3.0, 6.8, 2.607, [8], [1])\n",
        "    assert result == expected, f\"Test №1 Failed, Your result: {result}\"\n",
        "    print(\"Test №1 Successful\")\n",
        "    \n",
        "    # Тест 2\n",
        "    result = calculate_statistics([1, 3, 2])\n",
        "    expected = (2.0, 0.667, 0.816, [3], [])\n",
        "    assert result == expected, f\"Test №2 Failed, Your result: {result}\"\n",
        "    print(\"Test №2 Successful\")\n",
        "\n",
        "# Запуск тестов\n",
        "run_tests()"
      ]
    },
    {
      "cell_type": "markdown",
      "metadata": {
        "id": "jPkylmOX5O9n"
      },
      "source": [
        "<h1> Задача 8. Дан некоторый вектор с целочисленными метками классов, напишите функцию, которая выполняет one-hot-encoding для данного вектора\n",
        "<h1> One-hot-encoding - представление, в котором на месте метки некоторого класса стоит 1, в остальных позициях стоит 0. Например для вектора [0, 2, 3, 0] one-hot-encoding выглядит как: [[1, 0, 0, 0], [0, 0, 1, 0], [0, 0, 0, 1], [1, 0, 0, 0]]"
      ]
    },
    {
      "cell_type": "code",
      "execution_count": 46,
      "metadata": {
        "id": "Y-jlnZvw56lD"
      },
      "outputs": [],
      "source": [
        "# Your code goes here"
      ]
    }
  ],
  "metadata": {
    "colab": {
      "provenance": []
    },
    "kernelspec": {
      "display_name": "Python 3",
      "name": "python3"
    },
    "language_info": {
      "codemirror_mode": {
        "name": "ipython",
        "version": 3
      },
      "file_extension": ".py",
      "mimetype": "text/x-python",
      "name": "python",
      "nbconvert_exporter": "python",
      "pygments_lexer": "ipython3",
      "version": "3.11.9"
    }
  },
  "nbformat": 4,
  "nbformat_minor": 0
}
