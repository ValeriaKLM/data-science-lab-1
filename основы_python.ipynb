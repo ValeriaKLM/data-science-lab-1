{
 "cells": [
  {
   "cell_type": "code",
   "execution_count": 144,
   "metadata": {},
   "outputs": [],
   "source": [
    "import random\n",
    "import numpy\n",
    "import math"
   ]
  },
  {
   "cell_type": "code",
   "execution_count": 145,
   "metadata": {},
   "outputs": [],
   "source": [
    "def Test(func, tests):\n",
    "    for index, test in enumerate(tests):\n",
    "        test_name, (input_data, expected_output) = test\n",
    "        try:\n",
    "            result = func(input_data)\n",
    "            if result == expected_output:\n",
    "                print(f\"Test №{index + 1} ({test_name}) Successful\")\n",
    "                print(f\"Input: {input_data}\")\n",
    "                print(f\"Output: {result}\")\n",
    "                print()\n",
    "            else:\n",
    "                print(f\"Test №{index + 1} ({test_name}) Failed\")\n",
    "                print(f\"Input: {input_data}\")\n",
    "                print(f\"Your output: {result}\")\n",
    "                print(f\"Right output: {expected_output}\")\n",
    "                print()\n",
    "        except Exception as e:\n",
    "            print(f\"Test №{index + 1} ({test_name}) Failed with exception\")\n",
    "            print(f\"Input: {input_data}\")\n",
    "            print(f\"Exception: {e}\")\n",
    "            print()"
   ]
  },
  {
   "cell_type": "markdown",
   "metadata": {
    "id": "M-DGa20PaHnu"
   },
   "source": [
    "#Задача 1\n",
    "Написать функцию на вход которой подается строка, состоящая из латинских букв.\n",
    "Функция должна вернуть количество гласных букв (a, e, i, o, u) в этой строке. Написать тесты для кода"
   ]
  },
  {
   "cell_type": "code",
   "execution_count": 146,
   "metadata": {
    "id": "XvX8X_JJ6PCb"
   },
   "outputs": [],
   "source": [
    "# Your code goes here\n",
    "def get_number_of_vowels(string: str) -> dict:\n",
    "    letters: dict[str, int] = {'a': 0, 'e': 0, 'i': 0, 'o': 0, 'u': 0}\n",
    "    \n",
    "    for letter in string:\n",
    "        if letter in 'aeiou':\n",
    "            letters[letter] += 1\n",
    "        \n",
    "    return letters"
   ]
  },
  {
   "cell_type": "code",
   "execution_count": 147,
   "metadata": {},
   "outputs": [
    {
     "name": "stdout",
     "output_type": "stream",
     "text": [
      "Test №1 (Common_Test) Successful\n",
      "Input: data science\n",
      "Output: {'a': 2, 'e': 2, 'i': 1, 'o': 0, 'u': 0}\n",
      "\n",
      "Test №2 (Common_Test) Successful\n",
      "Input: machine learning\n",
      "Output: {'a': 2, 'e': 2, 'i': 2, 'o': 0, 'u': 0}\n",
      "\n",
      "Test №3 (Common_Test) Successful\n",
      "Input: im trying my best\n",
      "Output: {'a': 0, 'e': 1, 'i': 2, 'o': 0, 'u': 0}\n",
      "\n",
      "Test №4 (Common_Test) Successful\n",
      "Input: aeiou\n",
      "Output: {'a': 1, 'e': 1, 'i': 1, 'o': 1, 'u': 1}\n",
      "\n",
      "Test №5 (12a) Successful\n",
      "Input: aaaaaaaaaaaa\n",
      "Output: {'a': 12, 'e': 0, 'i': 0, 'o': 0, 'u': 0}\n",
      "\n",
      "Test №6 (Upper_Letters) Successful\n",
      "Input: AEIOU\n",
      "Output: {'a': 0, 'e': 0, 'i': 0, 'o': 0, 'u': 0}\n",
      "\n",
      "Test №7 (Empty_String) Successful\n",
      "Input: \n",
      "Output: {'a': 0, 'e': 0, 'i': 0, 'o': 0, 'u': 0}\n",
      "\n"
     ]
    }
   ],
   "source": [
    "tests = [\n",
    "    [\"Common_Test\" , ['data science', {'a': 2, 'e': 2, 'i': 1, 'o': 0, 'u': 0}] ],\n",
    "    [\"Common_Test\", ['machine learning', {'a': 2, 'e': 2, 'i': 2, 'o': 0, 'u': 0}] ],\n",
    "    [\"Common_Test\", ['im trying my best', {'a': 0, 'e': 1, 'i': 2, 'o': 0, 'u': 0}] ],\n",
    "    [\"Common_Test\", ['aeiou', {'a': 1, 'e': 1, 'i': 1, 'o': 1, 'u': 1}] ],\n",
    "    [\"12a\", ['aaaaaaaaaaaa', {'a': 12, 'e': 0, 'i': 0, 'o': 0, 'u': 0}] ],\n",
    "    [\"Upper_Letters\", ['AEIOU', {'a': 0, 'e': 0, 'i':0, 'o': 0, 'u': 0}] ],\n",
    "    [\"Empty_String\", ['', {'a': 0, 'e': 0, 'i': 0, 'o': 0, 'u': 0}] ],\n",
    "]\n",
    "\n",
    "Test(get_number_of_vowels, tests)"
   ]
  },
  {
   "cell_type": "markdown",
   "metadata": {
    "id": "t2ClV_Y0bbr6"
   },
   "source": [
    "# Задача 2\n",
    "Написать функцию на вход, которой подается строка. Функция должна вернуть true, если\n",
    "каждый символ в строке встречается только 1 раз, иначе должна вернуть false. Написать тесты для кода"
   ]
  },
  {
   "cell_type": "code",
   "execution_count": 148,
   "metadata": {
    "id": "FppbECao6VIz"
   },
   "outputs": [],
   "source": [
    "# Your code goes here\n",
    "def is_characters_repeated(string: str) -> bool:\n",
    "    for letter in string:\n",
    "        if string.count(letter) > 1:\n",
    "            return False\n",
    "    return True    "
   ]
  },
  {
   "cell_type": "code",
   "execution_count": 149,
   "metadata": {},
   "outputs": [
    {
     "name": "stdout",
     "output_type": "stream",
     "text": [
      "Test №1 (Unique_Characters_2) Successful\n",
      "Input: abc\n",
      "Output: True\n",
      "\n",
      "Test №2 (Unique_Characters_3) Successful\n",
      "Input: abcdefg\n",
      "Output: True\n",
      "\n",
      "Test №3 (Repeated_Characters_1) Successful\n",
      "Input: aabb\n",
      "Output: False\n",
      "\n",
      "Test №4 (Repeated_Characters_3) Successful\n",
      "Input: abcabc\n",
      "Output: False\n",
      "\n",
      "Test №5 (Single_Character) Successful\n",
      "Input: a\n",
      "Output: True\n",
      "\n",
      "Test №6 (Empty_String) Successful\n",
      "Input: \n",
      "Output: True\n",
      "\n",
      "Test №7 (All_Unique_Special_Characters) Successful\n",
      "Input: !@#$\n",
      "Output: True\n",
      "\n",
      "Test №8 (Repeated_Special_Characters) Successful\n",
      "Input: !!\n",
      "Output: False\n",
      "\n",
      "Test №9 (Mixed_Case_Unique) Successful\n",
      "Input: AbC\n",
      "Output: True\n",
      "\n",
      "Test №10 (Mixed_Case_Repeated) Failed\n",
      "Input: AaBbCc\n",
      "Your output: True\n",
      "Right output: False\n",
      "\n",
      "Test №11 (Long_Unique_String) Successful\n",
      "Input: abcdefghijklmnopqrstuvwxyz\n",
      "Output: True\n",
      "\n"
     ]
    }
   ],
   "source": [
    "tests = [\n",
    "    [\"Unique_Characters_2\", ['abc', True]],\n",
    "    [\"Unique_Characters_3\", ['abcdefg', True]],\n",
    "    [\"Repeated_Characters_1\", ['aabb', False]],\n",
    "    [\"Repeated_Characters_3\", ['abcabc', False]],\n",
    "    [\"Single_Character\", ['a', True]],\n",
    "    [\"Empty_String\", ['', True]],\n",
    "    [\"All_Unique_Special_Characters\", ['!@#$', True]],\n",
    "    [\"Repeated_Special_Characters\", ['!!', False]],\n",
    "    [\"Mixed_Case_Unique\", ['AbC', True]],\n",
    "    [\"Mixed_Case_Repeated\", ['AaBbCc', False]],\n",
    "    [\"Long_Unique_String\", ['abcdefghijklmnopqrstuvwxyz', True]],\n",
    "]\n",
    "\n",
    "Test(is_characters_repeated, tests)"
   ]
  },
  {
   "cell_type": "markdown",
   "metadata": {
    "id": "udRiIK1cdt6E"
   },
   "source": [
    "# Задача 3\n",
    "Написать функцию, которая принимает положительное число и возвращает количество\n",
    "бит равных 1 в этом числе. Написать тесты для кода"
   ]
  },
  {
   "cell_type": "code",
   "execution_count": 150,
   "metadata": {
    "id": "6tkfDJRz6dp_"
   },
   "outputs": [],
   "source": [
    "# Your code goes here\n",
    "def get_count_bits_in_number(value: int) -> int:\n",
    "    bin_value: str = bin(value)[2:]\n",
    "    return bin_value.count('1')"
   ]
  },
  {
   "cell_type": "code",
   "execution_count": 151,
   "metadata": {},
   "outputs": [
    {
     "name": "stdout",
     "output_type": "stream",
     "text": [
      "Test №1 (Test_Zero) Successful\n",
      "Input: 0\n",
      "Output: 0\n",
      "\n",
      "Test №2 (Test_One) Successful\n",
      "Input: 1\n",
      "Output: 1\n",
      "\n",
      "Test №3 (Test_Three) Successful\n",
      "Input: 3\n",
      "Output: 2\n",
      "\n",
      "Test №4 (Test_Four) Successful\n",
      "Input: 4\n",
      "Output: 1\n",
      "\n",
      "Test №5 (Test_Seven) Successful\n",
      "Input: 7\n",
      "Output: 3\n",
      "\n",
      "Test №6 (Test_Ten) Successful\n",
      "Input: 10\n",
      "Output: 2\n",
      "\n",
      "Test №7 (Test_Fifteen) Successful\n",
      "Input: 15\n",
      "Output: 4\n",
      "\n",
      "Test №8 (Test_Sixteen) Successful\n",
      "Input: 16\n",
      "Output: 1\n",
      "\n",
      "Test №9 (Test_One_Hundred) Successful\n",
      "Input: 100\n",
      "Output: 3\n",
      "\n",
      "Test №10 (Test_Two_Hundred_Fifty_Five) Successful\n",
      "Input: 255\n",
      "Output: 8\n",
      "\n",
      "Test №11 (Test_Thousand) Failed\n",
      "Input: 1000\n",
      "Your output: 6\n",
      "Right output: 2\n",
      "\n"
     ]
    }
   ],
   "source": [
    "tests = [\n",
    "    [\"Test_Zero\", [0, 0]],\n",
    "    [\"Test_One\", [1, 1]],\n",
    "    [\"Test_Three\", [3, 2]],\n",
    "    [\"Test_Four\", [4, 1]],\n",
    "    [\"Test_Seven\", [7, 3]],\n",
    "    [\"Test_Ten\", [10, 2]],\n",
    "    [\"Test_Fifteen\", [15, 4]],\n",
    "    [\"Test_Sixteen\", [16, 1]],\n",
    "    [\"Test_One_Hundred\", [100, 3]],\n",
    "    [\"Test_Two_Hundred_Fifty_Five\", [255, 8]],\n",
    "    [\"Test_Thousand\", [1000, 2]],\n",
    "]\n",
    "\n",
    "Test(get_count_bits_in_number, tests)"
   ]
  },
  {
   "cell_type": "markdown",
   "metadata": {
    "id": "26dDUz-Ae17N"
   },
   "source": [
    "# Задача 4\n",
    "Написать функцию, которая принимает положительное число. Функция должна вернуть то,\n",
    "сколько раз необходимо перемножать цифры числа или результат перемножения, чтобы\n",
    "получилось число состоящее из одной цифры.\n",
    "Например, для входного числа:\n",
    "· 39 функция должна вернуть 3, так как 3*9=27 => 2*7=14 => 1*4=4\n",
    "· 4 функция должна вернуть 0, так как число уже состоит из одной цифры\n",
    "· 999 функция должна вернуть 4, так как 9*9*9=729 => 7*2*9=126 => 1*2*6=12 =>\n",
    "1*2=2. Написать тесты для кода"
   ]
  },
  {
   "cell_type": "code",
   "execution_count": 152,
   "metadata": {
    "id": "BH1A_Mgi6i4G"
   },
   "outputs": [],
   "source": [
    "def magic(n: int) -> int:\n",
    "    def multiply_digits(num: int) -> int:\n",
    "        product = 1\n",
    "        while num > 0:\n",
    "            product *= num % 10\n",
    "            num //= 10\n",
    "        return product\n",
    "\n",
    "    def recursive_magic(num: int, steps: int) -> int:\n",
    "        if num // 10 == 0:\n",
    "            return steps\n",
    "        return recursive_magic(multiply_digits(num), steps + 1)\n",
    "    return recursive_magic(n, 0)"
   ]
  },
  {
   "cell_type": "code",
   "execution_count": 153,
   "metadata": {},
   "outputs": [
    {
     "name": "stdout",
     "output_type": "stream",
     "text": [
      "Test №1 (Single_Digit) Successful\n",
      "Input: 4\n",
      "Output: 0\n",
      "\n",
      "Test №2 (Two_Digits) Successful\n",
      "Input: 12\n",
      "Output: 1\n",
      "\n",
      "Test №3 (Three_Digits) Successful\n",
      "Input: 123\n",
      "Output: 1\n",
      "\n",
      "Test №4 (Five_Digits) Successful\n",
      "Input: 56789\n",
      "Output: 2\n",
      "\n",
      "Test №5 (All_Ones) Successful\n",
      "Input: 11111\n",
      "Output: 1\n",
      "\n",
      "Test №6 (Zero_Contained_2) Successful\n",
      "Input: 203\n",
      "Output: 1\n",
      "\n",
      "Test №7 (Zero_Contained_4) Successful\n",
      "Input: 101010\n",
      "Output: 1\n",
      "\n",
      "Test №8 (Single_Digit_Zero) Successful\n",
      "Input: 0\n",
      "Output: 0\n",
      "\n",
      "Test №9 (Single_Digit_One) Successful\n",
      "Input: 1\n",
      "Output: 0\n",
      "\n",
      "Test №10 (Large_Number) Failed\n",
      "Input: 222222222\n",
      "Your output: 3\n",
      "Right output: 7\n",
      "\n"
     ]
    }
   ],
   "source": [
    "tests = [\n",
    "    [\"Single_Digit\", [4, 0]],\n",
    "    [\"Two_Digits\", [12, 1]],\n",
    "    [\"Three_Digits\", [123, 1]],\n",
    "    [\"Five_Digits\", [56789, 2]],\n",
    "    [\"All_Ones\", [11111, 1]],\n",
    "    [\"Zero_Contained_2\", [203, 1]],\n",
    "    [\"Zero_Contained_4\", [101010, 1]],\n",
    "    [\"Single_Digit_Zero\", [0, 0]],\n",
    "    [\"Single_Digit_One\", [1, 0]],\n",
    "    [\"Large_Number\", [222222222, 7]],\n",
    "]\n",
    "\n",
    "Test(magic, tests)"
   ]
  },
  {
   "cell_type": "markdown",
   "metadata": {
    "id": "0nS-kIa8g8vd"
   },
   "source": [
    "# Задача 5\n",
    "Написать функцию, которая принимает два целочисленных вектора одинаковой длины и\n",
    "возвращает среднеквадратическое отклонение двух векторов. Написать тесты для кода"
   ]
  },
  {
   "cell_type": "code",
   "execution_count": 154,
   "metadata": {
    "id": "8iphx4LM6xbx"
   },
   "outputs": [],
   "source": [
    "def mse(pred, true) -> float:\n",
    "    squared_diff_sum = 0\n",
    "    \n",
    "    for p, t in zip(pred, true):\n",
    "        squared_diff_sum += (p - t)**2 \n",
    "        \n",
    "    return squared_diff_sum / len(pred)"
   ]
  },
  {
   "cell_type": "code",
   "execution_count": 155,
   "metadata": {},
   "outputs": [
    {
     "name": "stdout",
     "output_type": "stream",
     "text": [
      "Test №1(Test_Same_Values) Successful\n",
      "Input: ([1, 2, 3], [1, 2, 3])\n",
      "Output: 0.0\n",
      "\n",
      "Test №2(Test_Different_Values) Successful\n",
      "Input: ([1, 2, 3], [4, 5, 6])\n",
      "Output: 9.0\n",
      "\n",
      "Test №3(Test_Single_Element) Successful\n",
      "Input: ([1], [1])\n",
      "Output: 0.0\n",
      "\n",
      "Test №4(Test_Zero_Prediction) Successful\n",
      "Input: ([0, 0, 0], [1, 1, 1])\n",
      "Output: 1.0\n",
      "\n",
      "Test №5(Test_Negative_Values) Successful\n",
      "Input: ([-1, -2, -3], [-4, -5, -6])\n",
      "Output: 9.0\n",
      "\n",
      "Test №6(Test_Large_Values) Successful\n",
      "Input: ([1000, 2000, 3000], [1000, 2000, 3000])\n",
      "Output: 0.0\n",
      "\n"
     ]
    }
   ],
   "source": [
    "def TestFunc5(func: callable, tests: list[list]) -> None:\n",
    "    for index, test in enumerate(tests):\n",
    "        test_name, input_data, expected_output = test\n",
    "        try:\n",
    "            result = func(*input_data)\n",
    "            if result == expected_output:\n",
    "                print(f\"Test №{index + 1}({test_name}) Successful\")\n",
    "                print(f\"Input: {input_data}\")\n",
    "                print(f\"Output: {result}\")\n",
    "                print()\n",
    "            else:\n",
    "                print(f\"Test №{index + 1}({test_name}) Failed\")\n",
    "                print(f\"Input: {input_data}\")\n",
    "                print(f\"Your output: {result}\")\n",
    "                print(f\"Right output: {expected_output}\")\n",
    "                print()\n",
    "                assert result == expected_output\n",
    "        except Exception as e:\n",
    "            print(f\"Test №{index + 1}({test_name}) Failed with exception\")\n",
    "            print(f\"Input: {input_data}\")\n",
    "            print(f\"Exception: {e}\")\n",
    "            print()\n",
    "\n",
    "tests = [\n",
    "    [\"Test_Same_Values\", ([1, 2, 3], [1, 2, 3]), 0.0],\n",
    "    [\"Test_Different_Values\", ([1, 2, 3], [4, 5, 6]), 9.0],\n",
    "    [\"Test_Single_Element\", ([1], [1]), 0.0],\n",
    "    [\"Test_Zero_Prediction\", ([0, 0, 0], [1, 1, 1]), 1.0],\n",
    "    [\"Test_Negative_Values\", ([-1, -2, -3], [-4, -5, -6]), 9.0],\n",
    "    [\"Test_Large_Values\", ([1000, 2000, 3000], [1000, 2000, 3000]), 0.0],\n",
    "]\n",
    "\n",
    "TestFunc5(mse, tests)"
   ]
  },
  {
   "cell_type": "markdown",
   "metadata": {
    "id": "vpIPKL439zkw"
   },
   "source": [
    "# Задача 6\n",
    "Написать функцию, принимающая целое положительное число. Функция должна вернуть\n",
    "строку вида “(n1**p1)(n2**p2)…(nk**pk)” представляющая разложение числа на простые\n",
    "множители (если pi == 1, то выводить только ni).\n",
    "Например, для числа 86240 функция должна вернуть “(2**5)(5)(7**2)(11)”. Написать тесты для кода"
   ]
  },
  {
   "cell_type": "code",
   "execution_count": 156,
   "metadata": {
    "id": "pFebmcZk94Jw"
   },
   "outputs": [],
   "source": [
    "# Your code goes here\n",
    "def prime_factors(n: int) -> str:\n",
    "    factors = {}\n",
    "    \n",
    "    while n % 2 == 0:\n",
    "        if 2 in factors: factors[2] += 1\n",
    "        else: factors[2] = 1\n",
    "        n //= 2\n",
    "    \n",
    "    factor = 3\n",
    "    while factor**2 <= n:\n",
    "        while n % factor == 0:\n",
    "            if factor in factors: factors[factor] += 1\n",
    "            else: factors[factor] = 1\n",
    "            n //= factor\n",
    "        factor += 2\n",
    "    \n",
    "    if n > 2:\n",
    "        factors[n] = 1\n",
    "    \n",
    "    result = []\n",
    "    for prime, power in factors.items():\n",
    "        if power == 1: result.append(f\"({prime})\")\n",
    "        else: result.append(f\"({prime}**{power})\")\n",
    "    return ''.join(result)"
   ]
  },
  {
   "cell_type": "code",
   "execution_count": 157,
   "metadata": {},
   "outputs": [
    {
     "name": "stdout",
     "output_type": "stream",
     "text": [
      "Test №1(Test_Prime_2) Successful\n",
      "Input: 2\n",
      "Output: (2)\n",
      "\n",
      "Test №2(Test_Prime_3) Successful\n",
      "Input: 3\n",
      "Output: (3)\n",
      "\n",
      "Test №3(Test_Composite_4) Successful\n",
      "Input: 4\n",
      "Output: (2**2)\n",
      "\n",
      "Test №4(Test_Composite_6) Successful\n",
      "Input: 6\n",
      "Output: (2)(3)\n",
      "\n",
      "Test №5(Test_Composite_100) Successful\n",
      "Input: 100\n",
      "Output: (2**2)(5**2)\n",
      "\n",
      "Test №6(Test_Composite_27) Successful\n",
      "Input: 27\n",
      "Output: (3**3)\n",
      "\n",
      "Test №7(Test_Large_Number) Successful\n",
      "Input: 1001\n",
      "Output: (7)(11)(13)\n",
      "\n"
     ]
    }
   ],
   "source": [
    "def TestFunc6(func: callable, tests: list[list]) -> None:\n",
    "    for index, test in enumerate(tests):\n",
    "        test_name, input_data, expected_output = test\n",
    "        try:\n",
    "            result = func(input_data)\n",
    "            if result == expected_output:\n",
    "                print(f\"Test №{index + 1}({test_name}) Successful\")\n",
    "                print(f\"Input: {input_data}\")\n",
    "                print(f\"Output: {result}\")\n",
    "                print()\n",
    "            else:\n",
    "                print(f\"Test №{index + 1}({test_name}) Failed\")\n",
    "                print(f\"Input: {input_data}\")\n",
    "                print(f\"Your output: {result}\")\n",
    "                print(f\"Right output: {expected_output}\")\n",
    "                print()\n",
    "                assert result == expected_output\n",
    "        except Exception as e:\n",
    "            print(f\"Test №{index + 1}({test_name}) Failed with exception\")\n",
    "            print(f\"Input: {input_data}\")\n",
    "            print(f\"Exception: {e}\")\n",
    "            print()\n",
    "tests = [\n",
    "    [\"Test_Prime_2\", 2, \"(2)\"],\n",
    "    [\"Test_Prime_3\", 3, \"(3)\"],\n",
    "    [\"Test_Composite_4\", 4, \"(2**2)\"],\n",
    "    [\"Test_Composite_6\", 6, \"(2)(3)\"],\n",
    "    [\"Test_Composite_100\", 100, \"(2**2)(5**2)\"],\n",
    "    [\"Test_Composite_27\", 27, \"(3**3)\"],\n",
    "    [\"Test_Large_Number\", 1001, \"(7)(11)(13)\"],\n",
    "]\n",
    "\n",
    "TestFunc6(prime_factors, tests)"
   ]
  },
  {
   "cell_type": "markdown",
   "metadata": {
    "id": "ps2s0BudX7A2"
   },
   "source": [
    "# Задача 7\n",
    "Написать функцию, принимающая целое число n, задающее количество кубиков. Функция\n",
    "должна определить, можно ли из данного кол-ва кубиков построить пирамиду, то есть\n",
    "можно ли представить число n как 1^2+2^2+3^2+…+k^2. Если можно, то функция должна\n",
    "вернуть k, иначе строку “It is impossible”. Написать тесты для кода"
   ]
  },
  {
   "cell_type": "code",
   "execution_count": 158,
   "metadata": {
    "id": "3YPjEXxhX_YT"
   },
   "outputs": [],
   "source": [
    "def pyramid(number: int) -> int | str:\n",
    "    k = 1\n",
    "    current_sum = 0\n",
    "    \n",
    "    while current_sum < number:\n",
    "        current_sum += k ** 2\n",
    "        if current_sum == number:\n",
    "            return k\n",
    "        k += 1\n",
    "    \n",
    "    return \"It is impossible\""
   ]
  },
  {
   "cell_type": "code",
   "execution_count": 159,
   "metadata": {},
   "outputs": [
    {
     "name": "stdout",
     "output_type": "stream",
     "text": [
      "Test №1 (Test_1) Successful\n",
      "Input: 1\n",
      "Output: 1\n",
      "\n",
      "Test №2 (Test_5) Successful\n",
      "Input: 5\n",
      "Output: 2\n",
      "\n",
      "Test №3 (Test_14) Successful\n",
      "Input: 14\n",
      "Output: 3\n",
      "\n",
      "Test №4 (Test_30) Successful\n",
      "Input: 30\n",
      "Output: 4\n",
      "\n",
      "Test №5 (Test_55) Successful\n",
      "Input: 55\n",
      "Output: 5\n",
      "\n",
      "Test №6 (Test_91) Successful\n",
      "Input: 91\n",
      "Output: 6\n",
      "\n",
      "Test №7 (Test_140) Successful\n",
      "Input: -2\n",
      "Output: It is impossible\n",
      "\n"
     ]
    }
   ],
   "source": [
    "tests = [\n",
    "    [\"Test_1\", [1, 1]],\n",
    "    [\"Test_5\", [5, 2]],\n",
    "    [\"Test_14\", [14, 3]],\n",
    "    [\"Test_30\", [30, 4]],\n",
    "    [\"Test_55\", [55, 5]],\n",
    "    [\"Test_91\", [91, 6]],\n",
    "    [\"Test_140\", [-2, \"It is impossible\"]],\n",
    "]\n",
    "\n",
    "Test(pyramid, tests)"
   ]
  },
  {
   "cell_type": "markdown",
   "metadata": {
    "id": "KeKgmIdAQMEJ"
   },
   "source": [
    "# Задача 8\n",
    "Функция принимает на вход положительное число и определяет является ли оно сбалансированным, т.е. сумма цифр до средних равна сумме цифр после. Средними в случае нечетного числа цифр считать одну цифру, в случае четного - две средних. Написать тесты для кода"
   ]
  },
  {
   "cell_type": "code",
   "execution_count": 160,
   "metadata": {
    "id": "gMAAqtqlQrZt"
   },
   "outputs": [],
   "source": [
    "# Your code goes here\n",
    "def is_balanced(n):\n",
    "    s = str(n)\n",
    "    mid = len(s) // 2\n",
    "    if len(s) % 2 == 0:\n",
    "        left = sum(int(digit) for digit in s[:mid])\n",
    "        right = sum(int(digit) for digit in s[mid:])\n",
    "    else:\n",
    "        left = sum(int(digit) for digit in s[:mid])\n",
    "        right = sum(int(digit) for digit in s[mid+1:])\n",
    "    \n",
    "    return left == right\n"
   ]
  },
  {
   "cell_type": "code",
   "execution_count": 161,
   "metadata": {},
   "outputs": [
    {
     "name": "stdout",
     "output_type": "stream",
     "text": [
      "Test №1 (Test_123321) Successful\n",
      "Input: 123321\n",
      "Output: True\n",
      "\n",
      "Test №2 (Test_123412) Successful\n",
      "Input: 123412\n",
      "Output: False\n",
      "\n",
      "Test №3 (Test_121) Successful\n",
      "Input: 121\n",
      "Output: True\n",
      "\n",
      "Test №4 (Test_1221) Successful\n",
      "Input: 1221\n",
      "Output: True\n",
      "\n",
      "Test №5 (Test_123456) Successful\n",
      "Input: 123456\n",
      "Output: False\n",
      "\n",
      "Test №6 (Test_1111) Successful\n",
      "Input: 1111\n",
      "Output: True\n",
      "\n",
      "Test №7 (Test_12321) Successful\n",
      "Input: 12321\n",
      "Output: True\n",
      "\n"
     ]
    }
   ],
   "source": [
    "tests = [\n",
    "    [\"Test_123321\", [123321, True]],\n",
    "    [\"Test_123412\", [123412, False]],\n",
    "    [\"Test_121\", [121, True]],\n",
    "    [\"Test_1221\", [1221, True]],\n",
    "    [\"Test_123456\", [123456, False]],\n",
    "    [\"Test_1111\", [1111, True]],\n",
    "    [\"Test_12321\", [12321, True]],\n",
    "]\n",
    "\n",
    "Test(is_balanced, tests)"
   ]
  }
 ],
 "metadata": {
  "colab": {
   "provenance": []
  },
  "kernelspec": {
   "display_name": "Python 3",
   "language": "python",
   "name": "python3"
  },
  "language_info": {
   "codemirror_mode": {
    "name": "ipython",
    "version": 3
   },
   "file_extension": ".py",
   "mimetype": "text/x-python",
   "name": "python",
   "nbconvert_exporter": "python",
   "pygments_lexer": "ipython3",
   "version": "3.11.9"
  }
 },
 "nbformat": 4,
 "nbformat_minor": 0
}
